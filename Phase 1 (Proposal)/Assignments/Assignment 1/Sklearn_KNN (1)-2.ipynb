{
 "cells": [
  {
   "cell_type": "code",
   "execution_count": 67,
   "metadata": {},
   "outputs": [],
   "source": [
    "### Don't mind about this \n",
    "import warnings\n",
    "warnings.filterwarnings('ignore')\n",
    "###\n",
    "\n",
    "%matplotlib inline \n",
    "import pandas as pd\n",
    "import numpy as np\n",
    "import matplotlib.pyplot as plt\n",
    "from sklearn.neighbors import KNeighborsClassifier # I will use the Sklearn to get kNN\n",
    "from sklearn.model_selection import KFold, StratifiedKFold, cross_val_score\n",
    "from sklearn.model_selection import cross_val_predict\n",
    "from sklearn.metrics import confusion_matrix\n",
    "import math\n",
    "from statistics import mode\n",
    "from sklearn.model_selection import train_test_split\n"
   ]
  },
  {
   "cell_type": "code",
   "execution_count": 68,
   "metadata": {},
   "outputs": [
    {
     "data": {
      "text/html": [
       "<div>\n",
       "<style scoped>\n",
       "    .dataframe tbody tr th:only-of-type {\n",
       "        vertical-align: middle;\n",
       "    }\n",
       "\n",
       "    .dataframe tbody tr th {\n",
       "        vertical-align: top;\n",
       "    }\n",
       "\n",
       "    .dataframe thead th {\n",
       "        text-align: right;\n",
       "    }\n",
       "</style>\n",
       "<table border=\"1\" class=\"dataframe\">\n",
       "  <thead>\n",
       "    <tr style=\"text-align: right;\">\n",
       "      <th></th>\n",
       "      <th>label</th>\n",
       "      <th>pixel0</th>\n",
       "      <th>pixel1</th>\n",
       "      <th>pixel2</th>\n",
       "      <th>pixel3</th>\n",
       "      <th>pixel4</th>\n",
       "      <th>pixel5</th>\n",
       "      <th>pixel6</th>\n",
       "      <th>pixel7</th>\n",
       "      <th>pixel8</th>\n",
       "      <th>...</th>\n",
       "      <th>pixel774</th>\n",
       "      <th>pixel775</th>\n",
       "      <th>pixel776</th>\n",
       "      <th>pixel777</th>\n",
       "      <th>pixel778</th>\n",
       "      <th>pixel779</th>\n",
       "      <th>pixel780</th>\n",
       "      <th>pixel781</th>\n",
       "      <th>pixel782</th>\n",
       "      <th>pixel783</th>\n",
       "    </tr>\n",
       "  </thead>\n",
       "  <tbody>\n",
       "    <tr>\n",
       "      <th>0</th>\n",
       "      <td>1</td>\n",
       "      <td>0</td>\n",
       "      <td>0</td>\n",
       "      <td>0</td>\n",
       "      <td>0</td>\n",
       "      <td>0</td>\n",
       "      <td>0</td>\n",
       "      <td>0</td>\n",
       "      <td>0</td>\n",
       "      <td>0</td>\n",
       "      <td>...</td>\n",
       "      <td>0</td>\n",
       "      <td>0</td>\n",
       "      <td>0</td>\n",
       "      <td>0</td>\n",
       "      <td>0</td>\n",
       "      <td>0</td>\n",
       "      <td>0</td>\n",
       "      <td>0</td>\n",
       "      <td>0</td>\n",
       "      <td>0</td>\n",
       "    </tr>\n",
       "    <tr>\n",
       "      <th>1</th>\n",
       "      <td>0</td>\n",
       "      <td>0</td>\n",
       "      <td>0</td>\n",
       "      <td>0</td>\n",
       "      <td>0</td>\n",
       "      <td>0</td>\n",
       "      <td>0</td>\n",
       "      <td>0</td>\n",
       "      <td>0</td>\n",
       "      <td>0</td>\n",
       "      <td>...</td>\n",
       "      <td>0</td>\n",
       "      <td>0</td>\n",
       "      <td>0</td>\n",
       "      <td>0</td>\n",
       "      <td>0</td>\n",
       "      <td>0</td>\n",
       "      <td>0</td>\n",
       "      <td>0</td>\n",
       "      <td>0</td>\n",
       "      <td>0</td>\n",
       "    </tr>\n",
       "    <tr>\n",
       "      <th>2</th>\n",
       "      <td>1</td>\n",
       "      <td>0</td>\n",
       "      <td>0</td>\n",
       "      <td>0</td>\n",
       "      <td>0</td>\n",
       "      <td>0</td>\n",
       "      <td>0</td>\n",
       "      <td>0</td>\n",
       "      <td>0</td>\n",
       "      <td>0</td>\n",
       "      <td>...</td>\n",
       "      <td>0</td>\n",
       "      <td>0</td>\n",
       "      <td>0</td>\n",
       "      <td>0</td>\n",
       "      <td>0</td>\n",
       "      <td>0</td>\n",
       "      <td>0</td>\n",
       "      <td>0</td>\n",
       "      <td>0</td>\n",
       "      <td>0</td>\n",
       "    </tr>\n",
       "    <tr>\n",
       "      <th>3</th>\n",
       "      <td>4</td>\n",
       "      <td>0</td>\n",
       "      <td>0</td>\n",
       "      <td>0</td>\n",
       "      <td>0</td>\n",
       "      <td>0</td>\n",
       "      <td>0</td>\n",
       "      <td>0</td>\n",
       "      <td>0</td>\n",
       "      <td>0</td>\n",
       "      <td>...</td>\n",
       "      <td>0</td>\n",
       "      <td>0</td>\n",
       "      <td>0</td>\n",
       "      <td>0</td>\n",
       "      <td>0</td>\n",
       "      <td>0</td>\n",
       "      <td>0</td>\n",
       "      <td>0</td>\n",
       "      <td>0</td>\n",
       "      <td>0</td>\n",
       "    </tr>\n",
       "    <tr>\n",
       "      <th>4</th>\n",
       "      <td>0</td>\n",
       "      <td>0</td>\n",
       "      <td>0</td>\n",
       "      <td>0</td>\n",
       "      <td>0</td>\n",
       "      <td>0</td>\n",
       "      <td>0</td>\n",
       "      <td>0</td>\n",
       "      <td>0</td>\n",
       "      <td>0</td>\n",
       "      <td>...</td>\n",
       "      <td>0</td>\n",
       "      <td>0</td>\n",
       "      <td>0</td>\n",
       "      <td>0</td>\n",
       "      <td>0</td>\n",
       "      <td>0</td>\n",
       "      <td>0</td>\n",
       "      <td>0</td>\n",
       "      <td>0</td>\n",
       "      <td>0</td>\n",
       "    </tr>\n",
       "  </tbody>\n",
       "</table>\n",
       "<p>5 rows × 785 columns</p>\n",
       "</div>"
      ],
      "text/plain": [
       "   label  pixel0  pixel1  pixel2  pixel3  pixel4  pixel5  pixel6  pixel7  \\\n",
       "0      1       0       0       0       0       0       0       0       0   \n",
       "1      0       0       0       0       0       0       0       0       0   \n",
       "2      1       0       0       0       0       0       0       0       0   \n",
       "3      4       0       0       0       0       0       0       0       0   \n",
       "4      0       0       0       0       0       0       0       0       0   \n",
       "\n",
       "   pixel8  ...  pixel774  pixel775  pixel776  pixel777  pixel778  pixel779  \\\n",
       "0       0  ...         0         0         0         0         0         0   \n",
       "1       0  ...         0         0         0         0         0         0   \n",
       "2       0  ...         0         0         0         0         0         0   \n",
       "3       0  ...         0         0         0         0         0         0   \n",
       "4       0  ...         0         0         0         0         0         0   \n",
       "\n",
       "   pixel780  pixel781  pixel782  pixel783  \n",
       "0         0         0         0         0  \n",
       "1         0         0         0         0  \n",
       "2         0         0         0         0  \n",
       "3         0         0         0         0  \n",
       "4         0         0         0         0  \n",
       "\n",
       "[5 rows x 785 columns]"
      ]
     },
     "execution_count": 68,
     "metadata": {},
     "output_type": "execute_result"
    }
   ],
   "source": [
    "HandWrittenNumbers_dataset = pd.read_csv('mnist.csv') #put the data in pd Frame\n",
    "HandWrittenNumbers_dataset.head()"
   ]
  },
  {
   "cell_type": "code",
   "execution_count": 69,
   "metadata": {},
   "outputs": [],
   "source": [
    "Y = HandWrittenNumbers_dataset['label']\n",
    "X = HandWrittenNumbers_dataset.iloc[:,1:]"
   ]
  },
  {
   "cell_type": "code",
   "execution_count": 70,
   "metadata": {},
   "outputs": [
    {
     "name": "stdout",
     "output_type": "stream",
     "text": [
      "(42000, 785)\n",
      "(42000, 784)\n",
      "(42000,)\n"
     ]
    }
   ],
   "source": [
    "print(HandWrittenNumbers_dataset.shape) # we have 42000 pictures \n",
    "\n",
    "print(X.shape)\n",
    "print(Y.shape)"
   ]
  },
  {
   "cell_type": "code",
   "execution_count": 71,
   "metadata": {},
   "outputs": [],
   "source": [
    "#To split the data to test and train\n",
    "X_train, X_test, y_train, y_test = train_test_split(X, Y, test_size=0.2, random_state=42)"
   ]
  },
  {
   "cell_type": "code",
   "execution_count": 72,
   "metadata": {},
   "outputs": [
    {
     "name": "stdout",
     "output_type": "stream",
     "text": [
      "(33600, 784)\n",
      "(33600,)\n",
      "(8400, 784)\n",
      "(8400,)\n"
     ]
    }
   ],
   "source": [
    "print(X_train.shape)\n",
    "print(y_train.shape)\n",
    "\n",
    "print(X_test.shape)\n",
    "print(y_test.shape)"
   ]
  },
  {
   "cell_type": "code",
   "execution_count": 73,
   "metadata": {},
   "outputs": [
    {
     "data": {
      "text/plain": [
       "array([1, 0, 4, 7, 3, 5, 8, 9, 2, 6])"
      ]
     },
     "execution_count": 73,
     "metadata": {},
     "output_type": "execute_result"
    }
   ],
   "source": [
    "#The numbers in the dataset\n",
    "Y.unique()"
   ]
  },
  {
   "cell_type": "markdown",
   "metadata": {},
   "source": [
    "## Using Cross_validate to use K-Fold cross Validation "
   ]
  },
  {
   "cell_type": "code",
   "execution_count": 76,
   "metadata": {},
   "outputs": [],
   "source": [
    "#Sqrt(2267)\n",
    "from sklearn.model_selection import cross_validate\n",
    "knn = KNeighborsClassifier(n_neighbors = 46)\n",
    "\n",
    "knn.fit(X_train,y_train)\n",
    "\n",
    "#We need to use CrossValidation \n",
    "cross_validation = cross_validate(knn,X_train,y_train, cv = 10)\n",
    "\n",
    "y_pred = knn.predict(X_test)"
   ]
  },
  {
   "cell_type": "code",
   "execution_count": 77,
   "metadata": {},
   "outputs": [
    {
     "data": {
      "text/plain": [
       "array([[806,   0,   0,   0,   1,   1,   7,   0,   0,   1],\n",
       "       [  0, 905,   1,   0,   1,   0,   2,   0,   0,   0],\n",
       "       [  9,  30, 758,   6,   4,   1,   5,  24,   4,   5],\n",
       "       [  4,  10,   2, 874,   1,  13,   1,  12,  10,  10],\n",
       "       [  1,  14,   0,   0, 780,   0,   7,   3,   0,  34],\n",
       "       [  2,   5,   0,   8,   1, 662,  13,   1,   1,   9],\n",
       "       [  8,   1,   0,   0,   0,   4, 772,   0,   0,   0],\n",
       "       [  0,  34,   2,   0,   2,   0,   0, 835,   0,  20],\n",
       "       [  4,  26,   2,  25,   8,  20,   4,   4, 725,  17],\n",
       "       [  6,   7,   1,  12,   3,   1,   0,  18,   1, 789]])"
      ]
     },
     "execution_count": 77,
     "metadata": {},
     "output_type": "execute_result"
    }
   ],
   "source": [
    "conf_mat = confusion_matrix(y_test, y_pred,labels = [0,1, 2, 3, 4, 5, 6, 7, 8, 9])\n",
    "conf_mat"
   ]
  },
  {
   "cell_type": "markdown",
   "metadata": {},
   "source": [
    "## Precision, Recall, F1-Score per class"
   ]
  },
  {
   "cell_type": "code",
   "execution_count": 78,
   "metadata": {},
   "outputs": [
    {
     "name": "stdout",
     "output_type": "stream",
     "text": [
      "              precision    recall  f1-score   support\n",
      "\n",
      "     class 0       0.96      0.99      0.97       816\n",
      "     class 1       0.88      1.00      0.93       909\n",
      "     class 2       0.99      0.90      0.94       846\n",
      "     class 3       0.94      0.93      0.94       937\n",
      "     class 4       0.97      0.93      0.95       839\n",
      "     class 5       0.94      0.94      0.94       702\n",
      "     class 6       0.95      0.98      0.97       785\n",
      "     class 7       0.93      0.94      0.93       893\n",
      "     class 8       0.98      0.87      0.92       835\n",
      "     class 9       0.89      0.94      0.92       838\n",
      "\n",
      "    accuracy                           0.94      8400\n",
      "   macro avg       0.94      0.94      0.94      8400\n",
      "weighted avg       0.94      0.94      0.94      8400\n",
      "\n"
     ]
    }
   ],
   "source": [
    "from sklearn.metrics import classification_report\n",
    "\n",
    "print(classification_report(y_test, y_pred, target_names=['class 0','class 1', 'class 2', 'class 3', 'class 4', 'class 5', 'class 6', 'class 7', 'class 8', 'class 9']))"
   ]
  },
  {
   "cell_type": "code",
   "execution_count": 79,
   "metadata": {},
   "outputs": [
    {
     "data": {
      "text/plain": [
       "<AxesSubplot:>"
      ]
     },
     "execution_count": 79,
     "metadata": {},
     "output_type": "execute_result"
    },
    {
     "data": {
      "image/png": "[encoded data removed]",
      "text/plain": [
       "<Figure size 1080x576 with 2 Axes>"
      ]
     },
     "metadata": {
      "needs_background": "light"
     },
     "output_type": "display_data"
    }
   ],
   "source": [
    "import seaborn as sns\n",
    "df_cm = pd.DataFrame(conf_mat)\n",
    "plt.subplots(figsize=(15,8))\n",
    "sns.heatmap(df_cm, annot=True)"
   ]
  },
  {
   "cell_type": "code",
   "execution_count": 80,
   "metadata": {},
   "outputs": [
    {
     "data": {
      "image/png": "[encoded data removed]",
      "text/plain": [
       "<Figure size 288x288 with 1 Axes>"
      ]
     },
     "metadata": {
      "needs_background": "light"
     },
     "output_type": "display_data"
    }
   ],
   "source": [
    "plt.matshow(conf_mat, cmap=plt.cm.gray)\n",
    "plt.show()\n"
   ]
  },
  {
   "cell_type": "code",
   "execution_count": 81,
   "metadata": {
    "scrolled": true
   },
   "outputs": [
    {
     "name": "stdout",
     "output_type": "stream",
     "text": [
      "Accuracy = 0.9411904761904762\n",
      "Using Micro average\n",
      "Micro-averaged precision = 0.94 (treat instances equally)\n",
      "Micro-averaged Recall = 0.94 (treat instances equally)\n",
      "Micro-averaged F1_Score = 0.94 (treat instances equally)\n",
      "Using Macro average\n",
      "Macro-averaged precision = 0.94 (treat classes equally)\n",
      "Macro-averaged Recall = 0.94 (treat classes equally)\n",
      "Macro-averaged F1_Score = 0.94 (treat classes equally)\n"
     ]
    }
   ],
   "source": [
    "from sklearn.metrics import accuracy_score, precision_score, recall_score, f1_score\n",
    "\n",
    "print('Accuracy = {}'\n",
    "      .format(accuracy_score(y_test, y_pred)))\n",
    "print('Using Micro average')\n",
    "\n",
    "print('Micro-averaged precision = {:.2f} (treat instances equally)'\n",
    "      .format(precision_score(y_test, y_pred, average = 'micro')))\n",
    "print('Micro-averaged Recall = {:.2f} (treat instances equally)'\n",
    "      .format(recall_score(y_test, y_pred, average = 'micro')))\n",
    "print('Micro-averaged F1_Score = {:.2f} (treat instances equally)'\n",
    "      .format(f1_score(y_test, y_pred, average = 'micro')))\n",
    "\n",
    "print('Using Macro average')\n",
    "print('Macro-averaged precision = {:.2f} (treat classes equally)'\n",
    "      .format(precision_score(y_test, y_pred, average = 'macro')))\n",
    "print('Macro-averaged Recall = {:.2f} (treat classes equally)'\n",
    "      .format(recall_score(y_test, y_pred, average = 'macro')))\n",
    "\n",
    "print('Macro-averaged F1_Score = {:.2f} (treat classes equally)'\n",
    "      .format(f1_score(y_test, y_pred, average = 'macro')))"
   ]
  },
  {
   "cell_type": "code",
   "execution_count": 82,
   "metadata": {},
   "outputs": [],
   "source": [
    "proba = cross_val_predict(knn, X_test, y_test, cv=10, method='predict_proba')"
   ]
  },
  {
   "cell_type": "code",
   "execution_count": 83,
   "metadata": {},
   "outputs": [],
   "source": [
    "from sklearn.metrics import roc_auc_score\n",
    "\n",
    "from sklearn.preprocessing import label_binarize\n",
    "yt=label_binarize(y_test,classes=list(range(10)))"
   ]
  },
  {
   "cell_type": "code",
   "execution_count": 84,
   "metadata": {},
   "outputs": [
    {
     "data": {
      "text/plain": [
       "(8400, 10)"
      ]
     },
     "execution_count": 84,
     "metadata": {},
     "output_type": "execute_result"
    }
   ],
   "source": [
    "proba.shape"
   ]
  },
  {
   "cell_type": "markdown",
   "metadata": {},
   "source": [
    "## AUC per class"
   ]
  },
  {
   "cell_type": "code",
   "execution_count": 85,
   "metadata": {
    "scrolled": true
   },
   "outputs": [
    {
     "name": "stdout",
     "output_type": "stream",
     "text": [
      "The Digit:  0 --AUC---> 0.9991658781128485\n",
      "The Digit:  1 --AUC---> 0.999214385462041\n",
      "The Digit:  2 --AUC---> 0.9958222781786737\n",
      "The Digit:  3 --AUC---> 0.9926905140421669\n",
      "The Digit:  4 --AUC---> 0.99547462915447\n",
      "The Digit:  5 --AUC---> 0.9947881160533797\n",
      "The Digit:  6 --AUC---> 0.9983788282429499\n",
      "The Digit:  7 --AUC---> 0.9918245024315491\n",
      "The Digit:  8 --AUC---> 0.9921297655844952\n",
      "The Digit:  9 --AUC---> 0.9875053574618476\n"
     ]
    }
   ],
   "source": [
    "# With a help of https://stackoverflow.com/questions/56227246/how-to-calculate-roc-auc-score-having-3-classes\n",
    "\n",
    "from sklearn.metrics import roc_curve\n",
    "from sklearn.metrics import auc\n",
    "\n",
    "digits = list(Y.unique().flatten())\n",
    "digits.sort()\n",
    "\n",
    "fpr = dict()\n",
    "tpr = dict()\n",
    "roc_auc = dict()\n",
    "\n",
    "i=0\n",
    "for digit in digits:\n",
    "    fpr[i], tpr[i], thresholds = roc_curve(yt[:,digit],proba[:,digit])\n",
    "    auroc = auc(fpr[i], tpr[i])\n",
    "    print('The Digit: ',digit,'--AUC--->',auroc)\n",
    "    i=i+1\n",
    "\n",
    "\n"
   ]
  },
  {
   "cell_type": "markdown",
   "metadata": {},
   "source": [
    "## Accuracy per class"
   ]
  },
  {
   "cell_type": "code",
   "execution_count": 109,
   "metadata": {},
   "outputs": [
    {
     "data": {
      "text/plain": [
       "array([0.9877451 , 0.99559956, 0.89598109, 0.93276414, 0.92967819,\n",
       "       0.94301994, 0.98343949, 0.93505039, 0.86826347, 0.94152745])"
      ]
     },
     "execution_count": 109,
     "metadata": {},
     "output_type": "execute_result"
    }
   ],
   "source": [
    "conf_mat.diagonal()/conf_mat.sum(axis=1)"
   ]
  },
  {
   "cell_type": "markdown",
   "metadata": {},
   "source": [
    "## B. What is the best k with Euclidean Distance ?"
   ]
  },
  {
   "cell_type": "code",
   "execution_count": 86,
   "metadata": {},
   "outputs": [],
   "source": [
    "from sklearn.model_selection import GridSearchCV"
   ]
  },
  {
   "cell_type": "code",
   "execution_count": 88,
   "metadata": {},
   "outputs": [],
   "source": [
    "k_range = list(range(1,32))\n",
    "dict_grid =dict(n_neighbors = k_range) \n",
    "Knn_best_k = KNeighborsClassifier(metric='euclidean')\n",
    "#Kfold-cross Validation with a range of k \n",
    "total_ks = GridSearchCV(Knn_best_k, dict_grid, cv = 10)\n",
    "gridSearch_= total_ks.fit(X_train,y_train)"
   ]
  },
  {
   "cell_type": "code",
   "execution_count": 91,
   "metadata": {},
   "outputs": [
    {
     "data": {
      "text/plain": [
       "{'n_neighbors': 3}"
      ]
     },
     "execution_count": 91,
     "metadata": {},
     "output_type": "execute_result"
    }
   ],
   "source": [
    "gridSearch_.best_params_"
   ]
  },
  {
   "cell_type": "code",
   "execution_count": 100,
   "metadata": {},
   "outputs": [],
   "source": [
    "#predict with best k\n",
    "knn_euc = KNeighborsClassifier(n_neighbors = 3)\n",
    "\n",
    "knn_euc.fit(X_train,y_train)\n",
    "\n",
    "y_pred_euc = knn_euc.predict(X_test)"
   ]
  },
  {
   "cell_type": "code",
   "execution_count": 101,
   "metadata": {},
   "outputs": [
    {
     "name": "stdout",
     "output_type": "stream",
     "text": [
      "              precision    recall  f1-score   support\n",
      "\n",
      "     class 0       0.98      1.00      0.99       816\n",
      "     class 1       0.95      1.00      0.97       909\n",
      "     class 2       0.98      0.95      0.96       846\n",
      "     class 3       0.97      0.96      0.96       937\n",
      "     class 4       0.98      0.97      0.98       839\n",
      "     class 5       0.95      0.97      0.96       702\n",
      "     class 6       0.97      0.99      0.98       785\n",
      "     class 7       0.96      0.97      0.96       893\n",
      "     class 8       0.98      0.93      0.95       835\n",
      "     class 9       0.95      0.95      0.95       838\n",
      "\n",
      "    accuracy                           0.97      8400\n",
      "   macro avg       0.97      0.97      0.97      8400\n",
      "weighted avg       0.97      0.97      0.97      8400\n",
      "\n"
     ]
    }
   ],
   "source": [
    "print(classification_report(y_test, y_pred_euc, target_names=['class 0','class 1', 'class 2', 'class 3', 'class 4', 'class 5', 'class 6', 'class 7', 'class 8', 'class 9']))"
   ]
  },
  {
   "cell_type": "code",
   "execution_count": 107,
   "metadata": {},
   "outputs": [
    {
     "name": "stdout",
     "output_type": "stream",
     "text": [
      "The Digit:  0 --AUC---> 0.9984889822226359\n",
      "The Digit:  1 --AUC---> 0.9979526587019936\n",
      "The Digit:  2 --AUC---> 0.9901613035474763\n",
      "The Digit:  3 --AUC---> 0.9891753425758466\n",
      "The Digit:  4 --AUC---> 0.9943126851153723\n",
      "The Digit:  5 --AUC---> 0.9927265860300416\n",
      "The Digit:  6 --AUC---> 0.9983267185533079\n",
      "The Digit:  7 --AUC---> 0.9893278404881088\n",
      "The Digit:  8 --AUC---> 0.988224845748028\n",
      "The Digit:  9 --AUC---> 0.9922383081088144\n"
     ]
    }
   ],
   "source": [
    "\n",
    "proba_euc = knn_euc.predict_proba(X_test)\n",
    "digits = list(Y.unique().flatten())\n",
    "digits.sort()\n",
    "\n",
    "fpr = dict()\n",
    "tpr = dict()\n",
    "\n",
    "\n",
    "roc_auc = dict()\n",
    "\n",
    "i=0\n",
    "for digit in digits:\n",
    "    fpr[i], tpr[i], thresholds = roc_curve(yt[:,digit],proba_euc[:,digit])\n",
    "    auroc = auc(fpr[i], tpr[i])\n",
    "    print('The Digit: ',digit,'--AUC--->',auroc)\n",
    "    i=i+1\n",
    "\n",
    "\n"
   ]
  },
  {
   "cell_type": "code",
   "execution_count": 110,
   "metadata": {},
   "outputs": [
    {
     "data": {
      "text/plain": [
       "array([0.99509804, 0.99779978, 0.94562648, 0.95624333, 0.97258641,\n",
       "       0.96581197, 0.98853503, 0.96640538, 0.92694611, 0.9522673 ])"
      ]
     },
     "execution_count": 110,
     "metadata": {},
     "output_type": "execute_result"
    }
   ],
   "source": [
    "# getting the accuracy per class\n",
    "conf_mat_besteuc = confusion_matrix(y_test, y_pred_euc,labels = [0,1, 2, 3, 4, 5, 6, 7, 8, 9])\n",
    "conf_mat_besteuc\n",
    "conf_mat_besteuc.diagonal()/conf_mat_besteuc.sum(axis=1)"
   ]
  },
  {
   "cell_type": "markdown",
   "metadata": {},
   "source": [
    "## C.  What is the best k with Manhattan Distance ?"
   ]
  },
  {
   "cell_type": "code",
   "execution_count": 96,
   "metadata": {},
   "outputs": [],
   "source": [
    "k_range = list(range(1,8))\n",
    "dict_grid_2 =dict(n_neighbors = k_range) \n",
    "Knn_best_k_2 = KNeighborsClassifier(metric='manhattan')\n",
    "#Kfold-cross Validation with a range of k \n",
    "total_ks_2 = GridSearchCV(Knn_best_k_2, dict_grid_2, cv = 10)\n",
    "gridSearch_1= total_ks_2.fit(X_train,y_train)"
   ]
  },
  {
   "cell_type": "code",
   "execution_count": 97,
   "metadata": {},
   "outputs": [
    {
     "data": {
      "text/plain": [
       "{'n_neighbors': 3}"
      ]
     },
     "execution_count": 97,
     "metadata": {},
     "output_type": "execute_result"
    }
   ],
   "source": [
    "gridSearch_1.best_params_"
   ]
  },
  {
   "cell_type": "code",
   "execution_count": null,
   "metadata": {},
   "outputs": [],
   "source": []
  },
  {
   "cell_type": "code",
   "execution_count": 102,
   "metadata": {},
   "outputs": [],
   "source": [
    "#predict with best k\n",
    "knn_man = KNeighborsClassifier(n_neighbors = 3,metric='manhattan')\n",
    "\n",
    "knn_man.fit(X_train,y_train)\n",
    "\n",
    "y_pred_man = knn_man.predict(X_test)"
   ]
  },
  {
   "cell_type": "code",
   "execution_count": 104,
   "metadata": {},
   "outputs": [
    {
     "name": "stdout",
     "output_type": "stream",
     "text": [
      "              precision    recall  f1-score   support\n",
      "\n",
      "     class 0       0.97      1.00      0.98       816\n",
      "     class 1       0.93      1.00      0.96       909\n",
      "     class 2       0.98      0.93      0.96       846\n",
      "     class 3       0.95      0.96      0.95       937\n",
      "     class 4       0.98      0.97      0.97       839\n",
      "     class 5       0.95      0.96      0.95       702\n",
      "     class 6       0.98      0.99      0.98       785\n",
      "     class 7       0.95      0.96      0.96       893\n",
      "     class 8       0.99      0.90      0.94       835\n",
      "     class 9       0.94      0.94      0.94       838\n",
      "\n",
      "    accuracy                           0.96      8400\n",
      "   macro avg       0.96      0.96      0.96      8400\n",
      "weighted avg       0.96      0.96      0.96      8400\n",
      "\n"
     ]
    }
   ],
   "source": [
    "print(classification_report(y_test, y_pred_man, target_names=['class 0','class 1', 'class 2', 'class 3', 'class 4', 'class 5', 'class 6', 'class 7', 'class 8', 'class 9']))"
   ]
  },
  {
   "cell_type": "code",
   "execution_count": 105,
   "metadata": {},
   "outputs": [
    {
     "name": "stdout",
     "output_type": "stream",
     "text": [
      "The Digit:  0 --AUC---> 0.9988954590934475\n",
      "The Digit:  1 --AUC---> 0.9977609361523524\n",
      "The Digit:  2 --AUC---> 0.9830687920103701\n",
      "The Digit:  3 --AUC---> 0.988668323315693\n",
      "The Digit:  4 --AUC---> 0.991850233910007\n",
      "The Digit:  5 --AUC---> 0.9894504918212375\n",
      "The Digit:  6 --AUC---> 0.9962196636708474\n",
      "The Digit:  7 --AUC---> 0.9903635293136633\n",
      "The Digit:  8 --AUC---> 0.9809863419228959\n",
      "The Digit:  9 --AUC---> 0.9885429218697431\n"
     ]
    }
   ],
   "source": [
    "from sklearn.metrics import roc_auc_score\n",
    "\n",
    "from sklearn.preprocessing import label_binarize\n",
    "\n",
    "\n",
    "from sklearn.metrics import roc_curve\n",
    "from sklearn.metrics import auc\n",
    "\n",
    "proba = knn_man.predict_proba(X_test)\n",
    "digits = list(Y.unique().flatten())\n",
    "digits.sort()\n",
    "\n",
    "fpr = dict()\n",
    "tpr = dict()\n",
    "roc_auc = dict()\n",
    "\n",
    "i=0\n",
    "for digit in digits:\n",
    "    fpr[i], tpr[i], thresholds = roc_curve(yt[:,digit],proba[:,digit])\n",
    "    auroc = auc(fpr[i], tpr[i])\n",
    "    print('The Digit: ',digit,'--AUC--->',auroc)\n",
    "    i=i+1\n",
    "\n",
    "\n"
   ]
  },
  {
   "cell_type": "code",
   "execution_count": 111,
   "metadata": {},
   "outputs": [
    {
     "data": {
      "text/plain": [
       "array([0.99632353, 0.99889989, 0.93498818, 0.95731057, 0.96543504,\n",
       "       0.95726496, 0.98726115, 0.96304591, 0.8994012 , 0.94152745])"
      ]
     },
     "execution_count": 111,
     "metadata": {},
     "output_type": "execute_result"
    }
   ],
   "source": [
    "# getting the accuracy per class\n",
    "conf_mat_bestman = confusion_matrix(y_test, y_pred_man,labels = [0,1, 2, 3, 4, 5, 6, 7, 8, 9])\n",
    "conf_mat_bestman\n",
    "conf_mat_bestman.diagonal()/conf_mat_bestman.sum(axis=1)"
   ]
  },
  {
   "cell_type": "code",
   "execution_count": null,
   "metadata": {},
   "outputs": [],
   "source": []
  }
 ],
 "metadata": {
  "kernelspec": {
   "display_name": "Python 3",
   "language": "python",
   "name": "python3"
  },
  "language_info": {
   "codemirror_mode": {
    "name": "ipython",
    "version": 3
   },
   "file_extension": ".py",
   "mimetype": "text/x-python",
   "name": "python",
   "nbconvert_exporter": "python",
   "pygments_lexer": "ipython3",
   "version": "3.7.6"
  }
 },
 "nbformat": 4,
 "nbformat_minor": 4
}
